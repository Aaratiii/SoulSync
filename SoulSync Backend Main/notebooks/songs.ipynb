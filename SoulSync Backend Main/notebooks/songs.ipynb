{
 "cells": [
  {
   "cell_type": "code",
   "execution_count": 12,
   "metadata": {},
   "outputs": [],
   "source": [
    "import pandas as pd\n",
    "import pymongo\n",
    "from dotenv import load_dotenv\n",
    "import os"
   ]
  },
  {
   "cell_type": "code",
   "execution_count": 2,
   "metadata": {},
   "outputs": [],
   "source": [
    "data = pd.read_csv('../data/million-songs/song_data.csv')"
   ]
  },
  {
   "cell_type": "code",
   "execution_count": 42,
   "metadata": {},
   "outputs": [
    {
     "data": {
      "text/plain": [
       "True"
      ]
     },
     "execution_count": 42,
     "metadata": {},
     "output_type": "execute_result"
    }
   ],
   "source": [
    "load_dotenv()"
   ]
  },
  {
   "cell_type": "code",
   "execution_count": 16,
   "metadata": {},
   "outputs": [],
   "source": [
    "def get_mongo_db():\n",
    "    mongo_connection = os.environ[\"MONGODB_CONNECTION\"]\n",
    "    client = pymongo.MongoClient(mongo_connection)\n",
    "    return client['recommendation']"
   ]
  },
  {
   "cell_type": "code",
   "execution_count": 17,
   "metadata": {},
   "outputs": [],
   "source": [
    "db = get_mongo_db()\n",
    "million_songs_collection = db.get_collection('millionSongs')"
   ]
  },
  {
   "cell_type": "code",
   "execution_count": 28,
   "metadata": {},
   "outputs": [],
   "source": [
    "res = million_songs_collection.insert_many(data.to_dict('records'))"
   ]
  },
  {
   "cell_type": "code",
   "execution_count": 37,
   "metadata": {},
   "outputs": [],
   "source": [
    "data2 = pd.read_csv('../data/songs.csv')"
   ]
  },
  {
   "cell_type": "code",
   "execution_count": 41,
   "metadata": {},
   "outputs": [
    {
     "data": {
      "text/plain": [
       "[{'Name': 'Die For You (with Ariana Grande) - Remix',\n",
       "  'Artist': 'The Weeknd',\n",
       "  'Album': 'Die For You',\n",
       "  'Popularity': 74,\n",
       "  'Lyrics': \"4 ContributorsThis Is The Weeknd Lyrics1. The Weeknd- Starboy (feat. Daft Punk)\\n2. The Weeknd- The Hills\\n3. The Weeknd- Can't Feel My Face\\n4. The Weeknd- I Feel It Coming (feat. Daft Punk)\\n5. The Weeknd- Save Your Tears\\n6. The Weeknd- Earned It (Fifty Shades Of Grey) [From The ''Fifty Shades Of Grey'' Soundtrack]\\n7. House Of Balloons / Glass Table Girls\\n8. The Weeknd- Blinding Lights\\n9. The Weeknd- In Your Eyes\\n10. The Weeknd & Kendrick Lamar- Pray For Me\\n11. The Weeknd- Heartless\\n12. The Weeknd- Often\\n13. The Weeknd- Call Out My Name\\n14. The Weeknd- Die For You\\n15. Ariana Grande & The Weeknd- Love Me Harder\\n16. The Weeknd- Acquainted\\n17. The Weeknd- Wicked Games\\n18. The Weeknd- The Morning\\n19. The Weeknd- After Hours\\n20. Calvin Harris & The Weeknd- Over Now\\n21. Maluma & The Weeknd- Hawái (Remix)\\n22. The Weeknd- Nothing Compares (Bonus Track)\\n23. The Weeknd- Missed You (Bonus Track)\\n24. The Weeknd- Final Lullaby (Bonus Track)\\n25. The Weeknd- Try Me\\n26. The Weeknd- Wasted Times\\n27. The Weeknd & Gesaffelstein- I Was Never There\\n28. The Weeknd & Gesaffelstein- Hurt You\\n29. The Weeknd- Privilege\\n30. SZA, The Weeknd, Travis Scott & Game of Thrones- Power is Power\\n31. The Weeknd- Party Monster\\n32. NAV- Some Way (feat. The Weeknd)\\n33. Gesaffelstein- Lost in the Fire (feat. The Weeknd)\\n34. The Weeknd- Rockin'\\n35. The Weeknd- Sidewalks (feat. Kendrick Lamar)\\n36. Belly- Might Not (feat. The Weeknd)\\n37. The Weeknd- False Alarm\\n38. The Weeknd- In The Night\\n39. The Weeknd- A Lonely Night\\n40. The Weeknd- D.D\\n41. The Weeknd- Reminder (feat. A$AP Rocky & Young Thug) [Remix]\\n42. The Weeknd- Secrets\\n43. Drake- Crew Love (feat. The Weeknd)\\n44. The Weeknd- Nothing With You\\n45. The Weeknd- Dark Times (feat. Ed Sheeran)\\n46. The Weeknd- Tell Your Friends\\n47. The Weeknd- Remember\\n48. The Weeknd- Shameless\\n49. The Weeknd- True Colors\\n50. The Weeknd- Attention\\n51. The Weeknd- Six Feet Under\\n52. The Weeknd- Love To Lay\\n53. The Weeknd- High For This\\n54. The Weeknd- Loft Music\\n55. Future- Low Life (feat. The Weeknd)\\n56. Ty Dolla $ign- Or Nah (feat. The Weeknd, Wiz Khalifa & Mustard) [Remix]\\n57. The Weeknd- Live For (feat. Drake)\\n58. The Weeknd- Ordinary Life\\n59. The Weeknd- Valerie\\n60. The Weeknd- Pretty\\n61. The Weeknd- All I Know (feat. Future)\\n62. The Weeknd- Professional\\n63. The Weeknd- Love In The Sky\\n64. The Weeknd- Stargirl Interlude (feat. Lana Del Ray)\\n65. The Weeknd- What You NeedYou might also likeEmbed\"}]"
      ]
     },
     "execution_count": 41,
     "metadata": {},
     "output_type": "execute_result"
    }
   ],
   "source": [
    "data2.sample().to_dict('records')"
   ]
  }
 ],
 "metadata": {
  "kernelspec": {
   "display_name": "soulsync",
   "language": "python",
   "name": "python3"
  },
  "language_info": {
   "codemirror_mode": {
    "name": "ipython",
    "version": 3
   },
   "file_extension": ".py",
   "mimetype": "text/x-python",
   "name": "python",
   "nbconvert_exporter": "python",
   "pygments_lexer": "ipython3",
   "version": "3.1.-1"
  }
 },
 "nbformat": 4,
 "nbformat_minor": 2
}
